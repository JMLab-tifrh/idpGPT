{
 "cells": [
  {
   "cell_type": "code",
   "execution_count": 17,
   "id": "3e47959d-43f2-42b9-932a-1ec25e844578",
   "metadata": {},
   "outputs": [],
   "source": [
    "import numpy as np\n",
    "import matplotlib.pyplot as plt\n",
    "from MDAnalysis import Universe\n",
    "from freud.cluster import Cluster\n",
    "import freud\n",
    "from glob import glob\n",
    "from natsort import natsorted\n",
    "from tqdm.auto import tqdm\n",
    "from collections import Counter\n",
    "from scipy.optimize import curve_fit\n",
    "import pickle\n",
    "\n",
    "plt.style.use(\"mystyle\")"
   ]
  },
  {
   "cell_type": "code",
   "execution_count": null,
   "id": "e274bf69-60b7-420e-aa53-ed0ca8fda272",
   "metadata": {},
   "outputs": [],
   "source": []
  },
  {
   "cell_type": "markdown",
   "id": "7f5bcaa6-1fd9-4771-a350-594ec98a17ca",
   "metadata": {
    "jp-MarkdownHeadingCollapsed": true
   },
   "source": [
    "# functions"
   ]
  },
  {
   "cell_type": "code",
   "execution_count": 16,
   "id": "e090ca78-93c4-4754-a89d-71e726cbea71",
   "metadata": {},
   "outputs": [],
   "source": [
    "def calc_clusters(traj, N, Nres, Nchains, rcut, frames=10000, skip=1):\n",
    "    time = []\n",
    "    x_high = []\n",
    "    for frame in tqdm(traj.trajectory[-frames::skip], leave=False):\n",
    "        pos = traj.select_atoms(\"all\").positions\n",
    "        system = freud.AABBQuery(box, pos)\n",
    "        cl = freud.cluster.Cluster()\n",
    "        cl.compute(system, neighbors={\"r_max\": rcut})\n",
    "\n",
    "        count = []\n",
    "        number = []\n",
    "        for ctr, cluster_id in enumerate(range(cl.num_clusters)):\n",
    "            number.append(len(system.points[cl.cluster_keys[cluster_id]]))\n",
    "            count.append(ctr+1)\n",
    "        count = np.array(count)\n",
    "        number = np.array(number)/Nres\n",
    "        \n",
    "        time.append(frame.time*1e-6)\n",
    "\n",
    "        x_high.append(number[number > 10].sum())\n",
    "\n",
    "    time = np.array(time)\n",
    "    x_high = np.array(x_high)/Nchains\n",
    "    x_low = 1 - x_high\n",
    "\n",
    "    return time, x_high, x_low"
   ]
  },
  {
   "cell_type": "code",
   "execution_count": null,
   "id": "253c7161-ae7a-4ec2-a6e0-428df0b59afa",
   "metadata": {},
   "outputs": [],
   "source": []
  },
  {
   "cell_type": "markdown",
   "id": "6f8448a9-a5de-4b20-871c-3951d7f00adb",
   "metadata": {
    "jp-MarkdownHeadingCollapsed": true
   },
   "source": [
    "# obtaining system information"
   ]
  },
  {
   "cell_type": "code",
   "execution_count": 3,
   "id": "cbb8ec32-0df0-42e2-b342-324347462f15",
   "metadata": {},
   "outputs": [],
   "source": [
    "temp = natsorted(glob(\"sims/llps_plus/for_expt/prot28_rudra/calvados/[0-9]*\"))[:-3]"
   ]
  },
  {
   "cell_type": "code",
   "execution_count": 4,
   "id": "09c08e06-38e2-4b73-82d7-b071bae85ee3",
   "metadata": {},
   "outputs": [],
   "source": [
    "system = Universe(f\"{temp[0]}/multi.pdb\")\n",
    "\n",
    "box = system.trajectory[0]._unitcell[:3]\n",
    "box = freud.box.Box(Lx=box[0], Ly=box[1], Lz=box[2])\n",
    "N = system.select_atoms(\"all\").n_atoms\n",
    "Nres = np.unique(system.residues.resids).shape[0]\n",
    "Nchains = N//Nres"
   ]
  },
  {
   "cell_type": "code",
   "execution_count": null,
   "id": "5a5160b9-e0a7-4b21-8585-6052160d4d24",
   "metadata": {},
   "outputs": [],
   "source": []
  },
  {
   "cell_type": "markdown",
   "id": "db52a7d8-8c2b-431a-b673-fd9c1c5e60e5",
   "metadata": {},
   "source": [
    "# clustering and calculating mol fractions"
   ]
  },
  {
   "cell_type": "code",
   "execution_count": 5,
   "id": "c691b672-dfb4-43fc-886f-6d65fe53c102",
   "metadata": {},
   "outputs": [
    {
     "data": {
      "application/vnd.jupyter.widget-view+json": {
       "model_id": "25760986981e4b0792540e370113ead5",
       "version_major": 2,
       "version_minor": 0
      },
      "text/plain": [
       "  0%|          | 0/6 [00:00<?, ?it/s]"
      ]
     },
     "metadata": {},
     "output_type": "display_data"
    },
    {
     "data": {
      "application/vnd.jupyter.widget-view+json": {
       "model_id": "",
       "version_major": 2,
       "version_minor": 0
      },
      "text/plain": [
       "  0%|          | 0/100 [00:00<?, ?it/s]"
      ]
     },
     "metadata": {},
     "output_type": "display_data"
    },
    {
     "data": {
      "application/vnd.jupyter.widget-view+json": {
       "model_id": "",
       "version_major": 2,
       "version_minor": 0
      },
      "text/plain": [
       "  0%|          | 0/100 [00:00<?, ?it/s]"
      ]
     },
     "metadata": {},
     "output_type": "display_data"
    },
    {
     "data": {
      "application/vnd.jupyter.widget-view+json": {
       "model_id": "",
       "version_major": 2,
       "version_minor": 0
      },
      "text/plain": [
       "  0%|          | 0/100 [00:00<?, ?it/s]"
      ]
     },
     "metadata": {},
     "output_type": "display_data"
    },
    {
     "data": {
      "application/vnd.jupyter.widget-view+json": {
       "model_id": "",
       "version_major": 2,
       "version_minor": 0
      },
      "text/plain": [
       "  0%|          | 0/100 [00:00<?, ?it/s]"
      ]
     },
     "metadata": {},
     "output_type": "display_data"
    },
    {
     "data": {
      "application/vnd.jupyter.widget-view+json": {
       "model_id": "",
       "version_major": 2,
       "version_minor": 0
      },
      "text/plain": [
       "  0%|          | 0/100 [00:00<?, ?it/s]"
      ]
     },
     "metadata": {},
     "output_type": "display_data"
    },
    {
     "data": {
      "application/vnd.jupyter.widget-view+json": {
       "model_id": "",
       "version_major": 2,
       "version_minor": 0
      },
      "text/plain": [
       "  0%|          | 0/100 [00:00<?, ?it/s]"
      ]
     },
     "metadata": {},
     "output_type": "display_data"
    }
   ],
   "source": [
    "rcut = 6 # A\n",
    "\n",
    "data = {}\n",
    "\n",
    "for t in tqdm(temp):\n",
    "    traj = Universe(f\"{t}/multi.pdb\", f\"{t}/run0.xtc\")\n",
    "    time, x_high, x_low = calc_clusters(traj, N, Nres, Nchains, rcut, skip=100)\n",
    "\n",
    "    data[float(t.split(\"/\")[-1])] = {\"time\":time, \"x_high\":x_high, \"x_low\":x_low}\n",
    "        \n",
    "pickle.dump(data, open(\"sims/llps_plus/for_expt/prot28_rudra/calvados/mol_fractions.pkl\", \"wb\"))"
   ]
  },
  {
   "cell_type": "code",
   "execution_count": null,
   "id": "94c1dae1-c7bc-4a94-988c-48306dd37552",
   "metadata": {},
   "outputs": [],
   "source": []
  },
  {
   "cell_type": "markdown",
   "id": "f7ce9b56-e1ed-4c61-85b5-867e38000de2",
   "metadata": {},
   "source": [
    "# plotting phase diagram"
   ]
  },
  {
   "cell_type": "code",
   "execution_count": 6,
   "id": "86f4234b-4afb-4337-be72-1e9539daf186",
   "metadata": {},
   "outputs": [],
   "source": [
    "data = pickle.load(open(\"sims/llps_plus/for_expt/prot28_rudra/calvados/mol_fractions.pkl\", \"rb\"))"
   ]
  },
  {
   "cell_type": "code",
   "execution_count": 24,
   "id": "c77d8659-e9b1-49d6-8e76-ee19f977bd30",
   "metadata": {},
   "outputs": [],
   "source": [
    "def fit(T_and_low, A, Tc):\n",
    "    T, low = T_and_low\n",
    "    beta = 0.325\n",
    "    return A*np.power(Tc - T, beta) + low"
   ]
  },
  {
   "cell_type": "code",
   "execution_count": 62,
   "id": "d500c752-90a7-4d9e-a2b6-1e1b27b83bb3",
   "metadata": {},
   "outputs": [
    {
     "name": "stdout",
     "output_type": "stream",
     "text": [
      "A=0.28, Tc=215\n"
     ]
    },
    {
     "name": "stderr",
     "output_type": "stream",
     "text": [
      "/tmp/ipykernel_735478/867970399.py:4: RuntimeWarning: invalid value encountered in power\n",
      "  return A*np.power(Tc - T, beta) + low\n"
     ]
    }
   ],
   "source": [
    "params, pcov = curve_fit(fit, (T, low), high, p0=(0.15, 220))\n",
    "A, Tc = params\n",
    "print(f\"A={A:.2f}, Tc={Tc:.0f}\")"
   ]
  },
  {
   "cell_type": "code",
   "execution_count": 61,
   "id": "96d35438-8499-4073-87ce-09a173fc969c",
   "metadata": {},
   "outputs": [
    {
     "data": {
      "image/png": "[encoded data removed]",
      "text/plain": [
       "<Figure size 600x400 with 1 Axes>"
      ]
     },
     "metadata": {},
     "output_type": "display_data"
    }
   ],
   "source": [
    "fig, ax = plt.subplots(1, 1, figsize=(6, 4))\n",
    "\n",
    "high, low, T = [], [], []\n",
    "flag = True\n",
    "for temp in data:\n",
    "    T.append(temp)\n",
    "    x_high = data[temp][\"x_high\"]\n",
    "    x_low = data[temp][\"x_low\"]\n",
    "    high.append(np.mean(x_high))\n",
    "    low.append(np.mean(x_low))\n",
    "    \n",
    "    if flag:\n",
    "        ax.errorbar(np.mean(x_high), temp/Tc, xerr=np.std(x_high), marker='o', markersize=10,\n",
    "                    color=\"tab:red\", label=\"dense\")\n",
    "        ax.errorbar(np.mean(x_low), temp/Tc, xerr=np.std(x_low), marker='o', markersize=10,\n",
    "                    color=\"tab:blue\", label=\"dilute\")\n",
    "        flag = False\n",
    "    else:\n",
    "        ax.errorbar(np.mean(x_high), temp/Tc, xerr=np.std(x_high), marker='o', markersize=10,\n",
    "                    color=\"tab:red\")\n",
    "        ax.errorbar(np.mean(x_low), temp/Tc, xerr=np.std(x_low), marker='o', markersize=10,\n",
    "                    color=\"tab:blue\")\n",
    "\n",
    "ax.set_xlabel(\"mol fraction (x)\")\n",
    "ax.set_ylabel(\"T/Tc\")\n",
    "\n",
    "ax.scatter(0.5, 1.0, color=\"black\", label=f\"Tc = {Tc:.0f} K\")\n",
    "\n",
    "ax.legend()\n",
    "\n",
    "fig.savefig(\"figures/prot28_phase_diagram.png\", dpi=300, bbox_inches=\"tight\")\n",
    "fig.savefig(\"figures/prot28_phase_diagram.svg\", dpi=300, bbox_inches=\"tight\")\n",
    "fig.savefig(\"figures/prot28_phase_diagram.pdf\", dpi=300, bbox_inches=\"tight\")\n",
    "\n",
    "plt.show()"
   ]
  },
  {
   "cell_type": "code",
   "execution_count": null,
   "id": "007709e6-03f9-463e-b4b5-9b1ff0624960",
   "metadata": {},
   "outputs": [],
   "source": []
  },
  {
   "cell_type": "code",
   "execution_count": null,
   "id": "d11c8d74-70a6-498c-946c-6b1e283ca97c",
   "metadata": {},
   "outputs": [],
   "source": []
  }
 ],
 "metadata": {
  "kernelspec": {
   "display_name": "Python 3 (ipykernel)",
   "language": "python",
   "name": "python3"
  },
  "language_info": {
   "codemirror_mode": {
    "name": "ipython",
    "version": 3
   },
   "file_extension": ".py",
   "mimetype": "text/x-python",
   "name": "python",
   "nbconvert_exporter": "python",
   "pygments_lexer": "ipython3",
   "version": "3.11.7"
  }
 },
 "nbformat": 4,
 "nbformat_minor": 5
}
